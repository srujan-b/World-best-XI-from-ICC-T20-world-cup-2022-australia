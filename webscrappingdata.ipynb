{
  "nbformat": 4,
  "nbformat_minor": 0,
  "metadata": {
    "colab": {
      "provenance": [],
      "authorship_tag": "ABX9TyPICxNteukH/8cGQJkXfsqi",
      "include_colab_link": true
    },
    "kernelspec": {
      "name": "python3",
      "display_name": "Python 3"
    },
    "language_info": {
      "name": "python"
    }
  },
  "cells": [
    {
      "cell_type": "markdown",
      "metadata": {
        "id": "view-in-github",
        "colab_type": "text"
      },
      "source": [
        "<a href=\"https://colab.research.google.com/github/srujan-b/World-best-XI-from-ICC-T20-world-cup-2022-australia/blob/main/webscrappingdata.ipynb\" target=\"_parent\"><img src=\"https://colab.research.google.com/assets/colab-badge.svg\" alt=\"Open In Colab\"/></a>"
      ]
    },
    {
      "cell_type": "code",
      "execution_count": 209,
      "metadata": {
        "id": "h915qQDhwrsp"
      },
      "outputs": [],
      "source": [
        "from bs4 import BeautifulSoup\n",
        "import requests\n",
        "import smtplib\n",
        "import time\n",
        "from datetime import datetime\n",
        "import re"
      ]
    },
    {
      "cell_type": "markdown",
      "source": [
        "#All Matches Stats"
      ],
      "metadata": {
        "id": "b6tdFrSQ1ZzR"
      }
    },
    {
      "cell_type": "code",
      "source": [
        "# Url defination\n",
        "url = 'https://www.espncricinfo.com/series/icc-men-s-t20-world-cup-2022-23-1298134/match-schedule-fixtures-and-results'\n",
        "\n",
        "# Header for web scrapping\n",
        "headers = {\"User-Agen\":\"Mozilla/5.0 (Windows NT 10.0; Win64; x64) AppleWebKit/537.36 (KHTML, like Gecko) Chrome/123.0.0.0 Safari/537.36 Brave/96.0.4664.110\",\"Accept\": \"text/html,application/xhtml+xml,application/xml;q=0.9,image/avif,image/webp,image/apng,*/*;q=0.8\",\n",
        "    \"Accept-Encoding\": \"gzip, deflate, br, zstd\", \"Accept-Language\": \"en-US,en\",\"DNT\":\"1\",\"Connection\":\"close\", \"Upgrade-Insecure-Requests\":\"1\"}\n",
        "\n",
        "\n",
        "\n",
        "page = requests.get(url,headers = headers)"
      ],
      "metadata": {
        "id": "GtzpoXwOxWlh"
      },
      "execution_count": 210,
      "outputs": []
    },
    {
      "cell_type": "code",
      "source": [
        "resultPage = BeautifulSoup(page.content, \"html.parser\")"
      ],
      "metadata": {
        "id": "JmShG6F8xe-q"
      },
      "execution_count": 211,
      "outputs": []
    },
    {
      "cell_type": "code",
      "source": [
        "# Extracting match Dates\n",
        "\n",
        "dates = resultPage.find_all(\"div\", {\"class\": \"ds-text-compact-xs ds-font-bold ds-w-24\"})\n",
        "\n",
        "date = []\n",
        "for i in dates:\n",
        "\n",
        "  if i.get_text():\n",
        "    date_string = i.get_text(strip=True).split(',')[1]\n",
        "    date_object = datetime.strptime(date_string, \" %d %b '%y\")\n",
        "    formatted_date = date_object.strftime(\"%Y-%m-%d\")\n",
        "    date.append(formatted_date)\n",
        "  else:\n",
        "    date.append(formatted_date)"
      ],
      "metadata": {
        "id": "4WDW4qkmxu1S"
      },
      "execution_count": 212,
      "outputs": []
    },
    {
      "cell_type": "code",
      "source": [
        "# Extracting match numbers\n",
        "\n",
        "matchNumbers = resultPage.find_all(\"span\", {\"class\": \"ds-text-tight-s ds-font-medium ds-text-typo\"})\n",
        "\n",
        "matchNum = []\n",
        "for i in matchNumbers:\n",
        "  matchDetails = i.get_text(strip =True).split(\",\")[0].split()\n",
        "  if matchDetails[1] == 'Match':\n",
        "    pattern = r'\\d+'\n",
        "    numbers = re.search(pattern, matchDetails[0]).group()\n",
        "    matchNum.append(numbers)\n",
        "  else:\n",
        "    matchNum.append(\" \".join(matchDetails[0:-1]))"
      ],
      "metadata": {
        "id": "M2pI4GjF3S4S"
      },
      "execution_count": 242,
      "outputs": []
    },
    {
      "cell_type": "code",
      "source": [
        "# Extracting City\n",
        "\n",
        "place = resultPage.find_all(\"div\", {\"class\": \"ds-text-tight-s ds-font-regular ds-truncate ds-text-typo-mid3\"})\n",
        "\n",
        "city = []\n",
        "\n",
        "for i in place:\n",
        "\n",
        "\n",
        "  if i.contents[3]:\n",
        "    city.append(str(i.contents[3]))\n"
      ],
      "metadata": {
        "id": "TgJJTOs4ADRT"
      },
      "execution_count": 267,
      "outputs": []
    },
    {
      "cell_type": "code",
      "source": [
        "# extracting teams\n",
        "team1Find = resultPage.find_all(\"p\", {\"class\": \"ds-text-tight-m ds-font-bold ds-capitalize ds-truncate\"})\n",
        "\n",
        "teamName = {'England':'ENG', 'India':'IND', 'Scotland':'SCOT', 'Ireland':'IRE', 'Sri Lanka':'SL', 'Zimbabwe':'ZIM', 'Afghanistan':'AFG', 'Australia':'AUS', 'Pakistan':'PAK', 'United Arab Emirates':'UAE', 'Bangladesh':'BAN', 'South Africa':'SA', 'Netherlands':'NED', 'New Zealand':'NZ', 'Namibia':'NAM', 'West Indies':'WI'}\n",
        "team1 = []\n",
        "team2 = []\n",
        "team1SF = []\n",
        "team2SF = []\n",
        "a = 1\n",
        "for i in team1Find:\n",
        "  if a % 2 != 1:\n",
        "    team = i.get_text(strip=True)\n",
        "    team1.append(team)\n",
        "    team1SF.append(teamName[team])\n",
        "    a +=1\n",
        "  else:\n",
        "    team = i.get_text(strip=True)\n",
        "    team2.append(team)\n",
        "    team2SF.append(teamName[team])\n",
        "    a+=1\n"
      ],
      "metadata": {
        "id": "6rDBYeMWGXHO"
      },
      "execution_count": 215,
      "outputs": []
    },
    {
      "cell_type": "code",
      "source": [
        "# scores of the match\n",
        "\n",
        "scores_class_divs = resultPage.find_all(\"div\", {\"class\": \"ds-flex ds-flex-col ds-mt-2 ds-mb-2\"})\n",
        "\n",
        "team1Score = []\n",
        "team2Score = []\n",
        "\n",
        "a = 1\n",
        "for div in scores_class_divs:\n",
        "\n",
        "  if div.find_all(\"strong\", class_=\"\"):\n",
        "    bothTeamScore = div.find_all(\"strong\", class_=\"\")\n",
        "    team1s = bothTeamScore[0].get_text(strip=True)\n",
        "    team2s = bothTeamScore[1].get_text(strip=True)\n",
        "    team1Score.append(team1s)\n",
        "    team2Score.append(team2s)\n",
        "  else:\n",
        "    team1Score.append(\" \")\n",
        "    team2Score.append(\" \")\n",
        "\n",
        "\n"
      ],
      "metadata": {
        "id": "7_9N-Z8fOaaV"
      },
      "execution_count": 216,
      "outputs": []
    },
    {
      "cell_type": "code",
      "source": [
        "# Results\n",
        "\n",
        "resultsClassDivs = resultPage.find_all(\"p\", {\"class\": \"ds-text-tight-s ds-font-medium ds-line-clamp-2 ds-text-typo\"})\n",
        "\n",
        "results = []\n",
        "\n",
        "\n",
        "for i in resultsClassDivs:\n",
        "  results.append(i.find(\"span\").get_text(strip=True))\n",
        "\n"
      ],
      "metadata": {
        "id": "xrd9WTpQkhyP"
      },
      "execution_count": 217,
      "outputs": []
    },
    {
      "cell_type": "code",
      "source": [
        "#scorecardURl\n",
        "scoreCardClass = resultPage.find(\"div\", {\"class\": \"ds-w-full ds-bg-fill-content-prime ds-overflow-hidden ds-rounded-xl ds-border ds-border-line\"})\n",
        "\n",
        "scoreCardUrlDivs = scoreCardClass.find_all(\"a\", {\"class\": \"ds-no-tap-higlight\"})\n",
        "\n",
        "url = []\n",
        "for i in scoreCardUrlDivs:\n",
        "\n",
        "  url.append(\"https://www.espncricinfo.com\"+i.get(\"href\"))\n"
      ],
      "metadata": {
        "id": "ZJOBZabBpGRS"
      },
      "execution_count": 218,
      "outputs": []
    },
    {
      "cell_type": "code",
      "source": [
        "finalList = list(zip(date,matchNum,city,team1,team1SF,team1Score,team2,team2SF,team2Score,results,url))"
      ],
      "metadata": {
        "id": "HMtQ6ilyvsbT"
      },
      "execution_count": 280,
      "outputs": []
    },
    {
      "cell_type": "markdown",
      "source": [],
      "metadata": {
        "id": "nqpb22gC0xBE"
      }
    },
    {
      "cell_type": "markdown",
      "source": [
        "# Indivudial Matches Batsmen and bowler performance"
      ],
      "metadata": {
        "id": "36H9tmN21e5g"
      }
    },
    {
      "cell_type": "code",
      "source": [
        "#batting arrays\n",
        "\n",
        "matchNumBat = []\n",
        "battingTeam = []\n",
        "battingPosition = []\n",
        "batsmanName = []\n",
        "batsmanUrl = []\n",
        "runsScored = []\n",
        "ballsFaced = []\n",
        "numberOfFores = []\n",
        "numberofSix = []\n",
        "strikeRate = []\n",
        "\n",
        "\n",
        "# Bowling arrays\n",
        "matchNumBowl = []\n",
        "bowlerName = []\n",
        "bowlingTeam = []\n",
        "numberOvers = []\n",
        "madeinOvers = []\n",
        "runsGiven = []\n",
        "wicketsTaken = []\n",
        "econamy = []\n",
        "dotBalls = []\n",
        "fourGiven = []\n",
        "sixesGiven = []\n",
        "noBallsGiven  = []\n",
        "widesGiven = []\n",
        "bowlerUrl = []\n",
        "\n",
        "for i in range(len(url)):\n",
        "  headers = {\"User-Agen\":\"Mozilla/5.0 (Windows NT 10.0; Win64; x64) AppleWebKit/537.36 (KHTML, like Gecko) Chrome/123.0.0.0 Safari/537.36 Brave/96.0.4664.110\",\"Accept\": \"text/html,application/xhtml+xml,application/xml;q=0.9,image/avif,image/webp,image/apng,*/*;q=0.8\",\n",
        "      \"Accept-Encoding\": \"gzip, deflate, br, zstd\", \"Accept-Language\": \"en-US,en\",\"DNT\":\"1\",\"Connection\":\"close\", \"Upgrade-Insecure-Requests\":\"1\"}\n",
        "  page = requests.get(url[i] ,headers = headers)\n",
        "\n",
        "  scorecardPage = BeautifulSoup(page.content, \"html.parser\")\n",
        "\n",
        "  # Match Number\n",
        "  matchNumbers = scorecardPage.find(\"div\", {\"class\": \"ds-text-tight-m ds-font-regular ds-text-typo-mid3\"}).get_text(strip =True).split(\",\")[0].split()\n",
        "  if matchNumbers[1] == 'Match':\n",
        "      pattern = r'\\d+'\n",
        "      numbers = re.search(pattern, matchNumbers[0]).group()\n",
        "\n",
        "  else:\n",
        "      num = scorecardPage.find(\"div\", {\"class\": \"ds-text-tight-m ds-font-regular ds-text-typo-mid3\"}).get_text(strip =True).split(\",\")[0].split()\n",
        "      numbers = \" \".join(num[0:-1])\n",
        "\n",
        "\n",
        "  #Team Names\n",
        "  try:\n",
        "    teamNameDiv = scorecardPage.find_all(\"div\", {\"class\": \"ds-rounded-lg ds-mt-2\"})\n",
        "    teams = [teamNameDiv[0].find(\"span\",{\"class\":\"ds-text-title-xs ds-font-bold ds-capitalize\"}).get_text(strip=True),teamNameDiv[1].find(\"span\",{\"class\":\"ds-text-title-xs ds-font-bold ds-capitalize\"}).get_text(strip=True)]\n",
        "  except:\n",
        "    pass\n",
        "\n",
        "  battingScorecardDiv = scorecardPage.find_all(\"table\",{\"class\":\"ds-w-full ds-table ds-table-md ds-table-auto ci-scorecard-table\"})\n",
        "\n",
        "\n",
        "\n",
        "  for i in range(len(battingScorecardDiv)):\n",
        "    a = 1\n",
        "    for row in battingScorecardDiv[i].find_all(\"tr\",{\"class\":\"\"})[0:-1]:\n",
        "      #\n",
        "      bName = row.find('a',{\"class\":\"ds-inline-flex ds-items-start ds-leading-none\"})\n",
        "      if bName:\n",
        "        matchNumBat.append(numbers)\n",
        "        battingTeam.append(teams[i])\n",
        "        battingPosition.append(a)\n",
        "        batsmanName.append(bName.get_text(strip=True))\n",
        "        #print(bName.get_text(strip=True))\n",
        "        runsScored.append(int(row.find_all('td')[2].get_text()))\n",
        "        ballsFaced.append(int(row.find_all('td')[3].get_text()))\n",
        "        numberOfFores.append(int(row.find_all('td')[5].get_text()))\n",
        "        numberofSix.append(int(row.find_all('td')[6].get_text()))\n",
        "        if row.find_all('td')[7].get_text() != \"-\":\n",
        "          strikeRate.append(float(row.find_all('td')[7].get_text()))\n",
        "        else:\n",
        "          strikeRate.append(int(0))\n",
        "        batsmanUrl.append('https://www.espncricinfo.com' + row.find(\"a\",{\"class\":\"ds-inline-flex ds-items-start ds-leading-none\"}).get(\"href\"))\n",
        "        a+=1\n",
        "        #print(matchNumBat[i], battingTeam[i], battingPosition[i], batsmanName[i], batsmanUrl[i], runsScored[i], ballsFaced[i], numberOfFores[i], numberofSix[i], strikeRate[i])\n",
        "\n",
        "\n",
        "\n",
        "  bowlingScorecardDiv = scorecardPage.find_all(\"table\",{\"class\":\"ds-w-full ds-table ds-table-md ds-table-auto\"})\n",
        "\n",
        "\n",
        "  for i in range(len(bowlingScorecardDiv)):\n",
        "\n",
        "    for row in bowlingScorecardDiv[i].find_all(\"tr\"):\n",
        "\n",
        "      bowlName = row.find('a',{\"class\":\"ds-inline-flex ds-items-start ds-leading-none\"})\n",
        "      if bowlName:\n",
        "        if bowlName.get_text(strip=True) != \"See all photos\":\n",
        "          matchNumBowl.append(numbers)\n",
        "          bowlerName.append(bowlName.get_text(strip=True))\n",
        "          bowlingTeam.append(teams[i-1])\n",
        "          numberOvers.append(float(row.find_all('td')[1].get_text(strip =True)))\n",
        "          madeinOvers.append(float(row.find_all('td')[2].get_text(strip =True)))\n",
        "          runsGiven.append(int(row.find_all('td')[3].get_text(strip =True)))\n",
        "          wicketsTaken.append(int(row.find_all('td')[4].get_text(strip =True)))\n",
        "          econamy.append(float(row.find_all('td')[5].get_text(strip =True)))\n",
        "          dotBalls.append(int(row.find_all('td')[6].get_text(strip =True)))\n",
        "          fourGiven.append(int(row.find_all('td')[7].get_text(strip =True)))\n",
        "          sixesGiven.append(int(row.find_all('td')[8].get_text(strip =True)))\n",
        "          widesGiven.append(int(row.find_all('td')[9].get_text(strip =True)))\n",
        "          noBallsGiven.append(int(row.find_all('td')[10].get_text(strip =True)))\n",
        "          bowlerUrl.append('https://www.espncricinfo.com' + row.find(\"a\",{\"class\":\"ds-inline-flex ds-items-start ds-leading-none\"}).get(\"href\"))\n",
        "\n",
        "\n"
      ],
      "metadata": {
        "id": "qBzG39z_4s8L"
      },
      "execution_count": 328,
      "outputs": []
    },
    {
      "cell_type": "code",
      "source": [
        "batsmenSummary = list(zip(matchNumBat, battingTeam, battingPosition, batsmanName, batsmanUrl, runsScored, ballsFaced, numberOfFores, numberofSix, strikeRate))"
      ],
      "metadata": {
        "id": "MGbMVVHz7TMT"
      },
      "execution_count": 329,
      "outputs": []
    },
    {
      "cell_type": "code",
      "source": [
        "bowlersSummary = list(zip(matchNumBowl,bowlerName,bowlerUrl,bowlingTeam,numberOvers,madeinOvers,runsGiven,wicketsTaken,econamy,dotBalls,fourGiven,sixesGiven,noBallsGiven))\n"
      ],
      "metadata": {
        "id": "-nA17kkE9_BZ"
      },
      "execution_count": 331,
      "outputs": []
    },
    {
      "cell_type": "markdown",
      "source": [
        "# Snowflake connector for python"
      ],
      "metadata": {
        "id": "ZTe7aGzAaM9u"
      }
    },
    {
      "cell_type": "code",
      "source": [
        "pip install snowflake-connector-python[pandas]"
      ],
      "metadata": {
        "id": "IdAWsKIdSYi0"
      },
      "execution_count": null,
      "outputs": []
    },
    {
      "cell_type": "code",
      "source": [
        "pip show snowflake-connector-python"
      ],
      "metadata": {
        "id": "CkY8ZfHhSmI_"
      },
      "execution_count": null,
      "outputs": []
    },
    {
      "cell_type": "code",
      "source": [
        "pip show pyarrow"
      ],
      "metadata": {
        "id": "5O9JJtL0a_K_"
      },
      "execution_count": null,
      "outputs": []
    },
    {
      "cell_type": "code",
      "source": [
        "pip show pandas"
      ],
      "metadata": {
        "id": "NaBfIjfScKWW"
      },
      "execution_count": null,
      "outputs": []
    },
    {
      "cell_type": "code",
      "source": [
        "import snowflake.connector as sf"
      ],
      "metadata": {
        "id": "ZCSyTy4hcyQG"
      },
      "execution_count": 222,
      "outputs": []
    },
    {
      "cell_type": "code",
      "source": [
        "sf_conn_obj = sf.connect(\n",
        "    user = 'Use your User name',\n",
        "    password = 'your password',\n",
        "    account = 'your account',\n",
        "    warehouse ='COMPUTE_WH',\n",
        "    database = 'WORLDCUPT20_2022_AUSTRALIA',\n",
        "    schema = 'TEST_SCHEMA'\n",
        ")"
      ],
      "metadata": {
        "id": "X8HrqBC5dEt0"
      },
      "execution_count": 223,
      "outputs": []
    },
    {
      "cell_type": "code",
      "source": [
        "print(sf_conn_obj.account)"
      ],
      "metadata": {
        "id": "HFbTIr9sm4xF",
        "outputId": "71ead791-9611-45a0-eb7c-c05586666f0a",
        "colab": {
          "base_uri": "https://localhost:8080/"
        }
      },
      "execution_count": 224,
      "outputs": [
        {
          "output_type": "stream",
          "name": "stdout",
          "text": [
            "ql33067\n"
          ]
        }
      ]
    },
    {
      "cell_type": "code",
      "source": [
        "sf_cur_obj = sf_conn_obj.cursor()"
      ],
      "metadata": {
        "id": "-9Hjgl7ao774"
      },
      "execution_count": 225,
      "outputs": []
    },
    {
      "cell_type": "code",
      "source": [
        "sf_cur_obj.execute(\n",
        "    \"CREATE OR REPLACE TABLE MATCHSUMMARY (\"\n",
        "    \"MatchDate CHAR(10), \"\n",
        "    \"MatchNumber CHAR(20) PRIMARY KEY, \"\n",
        "    \"City CHAR(20), \"\n",
        "    \"Team1 CHAR(20), \"\n",
        "    \"Team1SF CHAR(4), \"\n",
        "    \"Team1Score CHAR(6), \"\n",
        "    \"Team2 CHAR(20), \"\n",
        "    \"Team2SF CHAR(4), \"\n",
        "    \"Team2Score CHAR(6), \"\n",
        "    \"Results CHAR(100), \"\n",
        "    \"\\\"URL\\\" CHAR(200))\"\n",
        ")\n"
      ],
      "metadata": {
        "id": "vOqFnMs8nGPJ",
        "outputId": "aaed1731-1f1e-45c3-8f55-b35048c305ca",
        "colab": {
          "base_uri": "https://localhost:8080/"
        }
      },
      "execution_count": 281,
      "outputs": [
        {
          "output_type": "execute_result",
          "data": {
            "text/plain": [
              "<snowflake.connector.cursor.SnowflakeCursor at 0x7b7916f03790>"
            ]
          },
          "metadata": {},
          "execution_count": 281
        }
      ]
    },
    {
      "cell_type": "code",
      "source": [
        "sql = \"INSERT INTO MATCHSUMMARY (MatchDate, MatchNumber, City, Team1, Team1SF, Team1Score, Team2, Team2SF, Team2Score, Results, \\\"URL\\\") VALUES (%s, %s, %s, %s, %s, %s, %s, %s, %s, %s, %s)\"\n",
        "sf_cur_obj.executemany(sql,finalList)"
      ],
      "metadata": {
        "id": "q7lijWASo5MQ",
        "outputId": "a0cd6478-bc42-4ca2-f155-50df501d3af7",
        "colab": {
          "base_uri": "https://localhost:8080/"
        }
      },
      "execution_count": 282,
      "outputs": [
        {
          "output_type": "execute_result",
          "data": {
            "text/plain": [
              "<snowflake.connector.cursor.SnowflakeCursor at 0x7b7916f03790>"
            ]
          },
          "metadata": {},
          "execution_count": 282
        }
      ]
    },
    {
      "cell_type": "code",
      "source": [
        "# CREATE TABLE query for BATSMANSUMMARY table\n",
        "sf_cur_obj.execute(\n",
        "    \"CREATE OR REPLACE TABLE BATSMANSUMMARY (\"\n",
        "    \"MATCHNUMBAT CHAR(20),\"\n",
        "    \"BATTINGTEAM CHAR(20),\"\n",
        "    \"BATTINGPOSITION INT,\"\n",
        "    \"BATSMANNAME CHAR(40),\"\n",
        "    \"BATSMANURL CHAR(200),\"\n",
        "    \"RUNSSCORED INT,\"\n",
        "    \"BALLSFACED INT,\"\n",
        "    \"NUMBEROFFORES INT,\"\n",
        "    \"NUMBEROFSIX INT,\"\n",
        "    \"STRIKERATE DECIMAL(10, 4),\"\n",
        "    \"FOREIGN KEY (MATCHNUMBAT) REFERENCES MATCHSUMMARY(MATCHNUMBER))\"\n",
        ")\n",
        "\n"
      ],
      "metadata": {
        "id": "qvHM5TGX01hH",
        "outputId": "5bed9fae-9953-4090-8441-0662d78358d1",
        "colab": {
          "base_uri": "https://localhost:8080/"
        }
      },
      "execution_count": 284,
      "outputs": [
        {
          "output_type": "execute_result",
          "data": {
            "text/plain": [
              "<snowflake.connector.cursor.SnowflakeCursor at 0x7b7916f03790>"
            ]
          },
          "metadata": {},
          "execution_count": 284
        }
      ]
    },
    {
      "cell_type": "code",
      "source": [
        "sql = \"\"\"\n",
        "CREATE OR REPLACE TABLE BOWLERSUMMARY (\n",
        "    MATCHNUMBOWL CHAR(20),\n",
        "    BOWLERNAME CHAR(40),\n",
        "    BOWLERURL CHAR(100),\n",
        "    BOWLINGTEAM CHAR(20),\n",
        "    NUMBEROVERS DECIMAL(32,0),\n",
        "    MADEINOVERS INT,\n",
        "    RUNSGIVEN INT,\n",
        "    WICKETSTAKEN INT,\n",
        "    ECONAMY DECIMAL(32,0),\n",
        "    DOTBALLS INT,\n",
        "    FOURGIVEN INT,\n",
        "    SIXESGIVEN INT,\n",
        "    NOBALLSGIVEN INT,\n",
        "    FOREIGN KEY(MATCHNUMBOWL) REFERENCES MATCHSUMMARY(MATCHNUMBER)\n",
        ")\n",
        "\"\"\"\n",
        "\n",
        "# Execute the SQL statement\n",
        "sf_cur_obj.execute(sql)\n"
      ],
      "metadata": {
        "id": "UBM_lQhC4Uo-",
        "outputId": "a4f92218-e3eb-4ddf-a4f1-97ffb8e03328",
        "colab": {
          "base_uri": "https://localhost:8080/"
        }
      },
      "execution_count": 333,
      "outputs": [
        {
          "output_type": "execute_result",
          "data": {
            "text/plain": [
              "<snowflake.connector.cursor.SnowflakeCursor at 0x7b7916f03790>"
            ]
          },
          "metadata": {},
          "execution_count": 333
        }
      ]
    },
    {
      "cell_type": "code",
      "source": [
        "sql = \"insert into BATSMANSUMMARY (MATCHNUMBAT,BATTINGTEAM,BATTINGPOSITION,BATSMANNAME,BATSMANURL,RUNSSCORED,BALLSFACED,NUMBEROFFORES,NUMBEROFSIX,STRIKERATE)VALUES(%s, %s, %s, %s, %s, %s, %s, %s, %s, %s)\"\n",
        "sf_cur_obj.executemany(sql,batsmenSummary)"
      ],
      "metadata": {
        "id": "Ub4krFRt3TEg",
        "outputId": "b8ab8954-f232-4996-ec4c-dc4588d4c6d0",
        "colab": {
          "base_uri": "https://localhost:8080/"
        }
      },
      "execution_count": 330,
      "outputs": [
        {
          "output_type": "execute_result",
          "data": {
            "text/plain": [
              "<snowflake.connector.cursor.SnowflakeCursor at 0x7b7916f03790>"
            ]
          },
          "metadata": {},
          "execution_count": 330
        }
      ]
    },
    {
      "cell_type": "code",
      "source": [
        "sql = \"\"\"\n",
        "INSERT INTO BOWLERSUMMARY (\n",
        "    MATCHNUMBOWL,\n",
        "    BOWLERNAME,\n",
        "    BOWLERURL,\n",
        "    BOWLINGTEAM,\n",
        "    NUMBEROVERS,\n",
        "    MADEINOVERS,\n",
        "    RUNSGIVEN,\n",
        "    WICKETSTAKEN,\n",
        "    ECONAMY,\n",
        "    DOTBALLS,\n",
        "    FOURGIVEN,\n",
        "    SIXESGIVEN,\n",
        "    NOBALLSGIVEN\n",
        ") VALUES (%s, %s, %s, %s, %s, %s, %s, %s, %s, %s, %s, %s, %s)\n",
        "\"\"\"\n",
        "sf_cur_obj.executemany(sql,bowlersSummary)\n"
      ],
      "metadata": {
        "id": "BqWg_hS5_Xaj",
        "outputId": "09fb606e-282a-4826-aef4-fc9b16bdc4da",
        "colab": {
          "base_uri": "https://localhost:8080/"
        }
      },
      "execution_count": 334,
      "outputs": [
        {
          "output_type": "execute_result",
          "data": {
            "text/plain": [
              "<snowflake.connector.cursor.SnowflakeCursor at 0x7b7916f03790>"
            ]
          },
          "metadata": {},
          "execution_count": 334
        }
      ]
    },
    {
      "cell_type": "code",
      "source": [],
      "metadata": {
        "id": "jO-QQRAKALVT"
      },
      "execution_count": null,
      "outputs": []
    }
  ]
}